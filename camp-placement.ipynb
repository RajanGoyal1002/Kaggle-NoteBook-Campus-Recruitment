{
 "cells": [
  {
   "cell_type": "code",
   "execution_count": 1,
   "metadata": {
    "_cell_guid": "b1076dfc-b9ad-4769-8c92-a6c4dae69d19",
    "_uuid": "8f2839f25d086af736a60e9eeb907d3b93b6e0e5"
   },
   "outputs": [
    {
     "name": "stdout",
     "output_type": "stream",
     "text": [
      "/kaggle/input/factors-affecting-campus-placement/Placement_Data_Full_Class.csv\n"
     ]
    }
   ],
   "source": [
    "# This Python 3 environment comes with many helpful analytics libraries installed\n",
    "# It is defined by the kaggle/python Docker image: https://github.com/kaggle/docker-python\n",
    "# For example, here's several helpful packages to load\n",
    "\n",
    "import numpy as np # linear algebra\n",
    "import pandas as pd # data processing, CSV file I/O (e.g. pd.read_csv)\n",
    "\n",
    "# Input data files are available in the read-only \"../input/\" directory\n",
    "# For example, running this (by clicking run or pressing Shift+Enter) will list all files under the input directory\n",
    "\n",
    "import os\n",
    "for dirname, _, filenames in os.walk('/kaggle/input'):\n",
    "    for filename in filenames:\n",
    "        print(os.path.join(dirname, filename))\n",
    "\n",
    "# You can write up to 5GB to the current directory (/kaggle/working/) that gets preserved as output when you create a version using \"Save & Run All\" \n",
    "# You can also write temporary files to /kaggle/temp/, but they won't be saved outside of the current session"
   ]
  },
  {
   "cell_type": "code",
   "execution_count": 2,
   "metadata": {
    "_cell_guid": "79c7e3d0-c299-4dcb-8224-4455121ee9b0",
    "_uuid": "d629ff2d2480ee46fbb7e2d37f6b5fab8052498a"
   },
   "outputs": [
    {
     "name": "stdout",
     "output_type": "stream",
     "text": [
      "     sl_no gender  ssc_p    ssc_b  hsc_p    hsc_b     hsc_s  degree_p  \\\n",
      "0        1      M  67.00   Others  91.00   Others  Commerce     58.00   \n",
      "1        2      M  79.33  Central  78.33   Others   Science     77.48   \n",
      "2        3      M  65.00  Central  68.00  Central      Arts     64.00   \n",
      "3        4      M  56.00  Central  52.00  Central   Science     52.00   \n",
      "4        5      M  85.80  Central  73.60  Central  Commerce     73.30   \n",
      "..     ...    ...    ...      ...    ...      ...       ...       ...   \n",
      "210    211      M  80.60   Others  82.00   Others  Commerce     77.60   \n",
      "211    212      M  58.00   Others  60.00   Others   Science     72.00   \n",
      "212    213      M  67.00   Others  67.00   Others  Commerce     73.00   \n",
      "213    214      F  74.00   Others  66.00   Others  Commerce     58.00   \n",
      "214    215      M  62.00  Central  58.00   Others   Science     53.00   \n",
      "\n",
      "      degree_t workex  etest_p specialisation  mba_p      status    salary  \n",
      "0     Sci&Tech     No     55.0         Mkt&HR  58.80      Placed  270000.0  \n",
      "1     Sci&Tech    Yes     86.5        Mkt&Fin  66.28      Placed  200000.0  \n",
      "2    Comm&Mgmt     No     75.0        Mkt&Fin  57.80      Placed  250000.0  \n",
      "3     Sci&Tech     No     66.0         Mkt&HR  59.43  Not Placed       NaN  \n",
      "4    Comm&Mgmt     No     96.8        Mkt&Fin  55.50      Placed  425000.0  \n",
      "..         ...    ...      ...            ...    ...         ...       ...  \n",
      "210  Comm&Mgmt     No     91.0        Mkt&Fin  74.49      Placed  400000.0  \n",
      "211   Sci&Tech     No     74.0        Mkt&Fin  53.62      Placed  275000.0  \n",
      "212  Comm&Mgmt    Yes     59.0        Mkt&Fin  69.72      Placed  295000.0  \n",
      "213  Comm&Mgmt     No     70.0         Mkt&HR  60.23      Placed  204000.0  \n",
      "214  Comm&Mgmt     No     89.0         Mkt&HR  60.22  Not Placed       NaN  \n",
      "\n",
      "[215 rows x 15 columns]\n"
     ]
    }
   ],
   "source": [
    "from sklearn.model_selection import train_test_split\n",
    "from sklearn.linear_model import LogisticRegression\n",
    "from sklearn.metrics import accuracy_score,confusion_matrix\n",
    "import seaborn as sns\n",
    "import statsmodels.api as sm\n",
    "from statsmodels.formula.api import ols\n",
    "import warnings\n",
    "warnings.filterwarnings(\"ignore\")\n",
    "df1 = pd.read_csv('/kaggle/input/factors-affecting-campus-placement/Placement_Data_Full_Class.csv')\n",
    "df=df1.copy(deep=True)\n",
    "print(df)"
   ]
  },
  {
   "cell_type": "code",
   "execution_count": 3,
   "metadata": {},
   "outputs": [
    {
     "data": {
      "text/plain": [
       "sl_no              0\n",
       "gender             0\n",
       "ssc_p              0\n",
       "ssc_b              0\n",
       "hsc_p              0\n",
       "hsc_b              0\n",
       "hsc_s              0\n",
       "degree_p           0\n",
       "degree_t           0\n",
       "workex             0\n",
       "etest_p            0\n",
       "specialisation     0\n",
       "mba_p              0\n",
       "status             0\n",
       "salary            67\n",
       "dtype: int64"
      ]
     },
     "execution_count": 3,
     "metadata": {},
     "output_type": "execute_result"
    }
   ],
   "source": [
    "df.isnull().sum()"
   ]
  },
  {
   "cell_type": "code",
   "execution_count": 4,
   "metadata": {},
   "outputs": [
    {
     "data": {
      "text/plain": [
       "count       148.000000\n",
       "mean     288655.405405\n",
       "std       93457.452420\n",
       "min      200000.000000\n",
       "25%      240000.000000\n",
       "50%      265000.000000\n",
       "75%      300000.000000\n",
       "max      940000.000000\n",
       "Name: salary, dtype: float64"
      ]
     },
     "execution_count": 4,
     "metadata": {},
     "output_type": "execute_result"
    }
   ],
   "source": [
    "df[\"salary\"].describe()"
   ]
  },
  {
   "cell_type": "code",
   "execution_count": 5,
   "metadata": {},
   "outputs": [],
   "source": [
    "m=round(df[\"salary\"].mean(),0)\n",
    "df[\"salary\"].replace(np.nan,m,inplace=True)\n",
    "df.drop(\"sl_no\",axis=1,inplace=True)"
   ]
  },
  {
   "cell_type": "code",
   "execution_count": 6,
   "metadata": {},
   "outputs": [],
   "source": [
    "df[\"gender\"].value_counts()\n",
    "dic={\"M\":0,\"F\":1}\n",
    "df[\"gender\"]=df[\"gender\"].map(dic)"
   ]
  },
  {
   "cell_type": "code",
   "execution_count": 7,
   "metadata": {},
   "outputs": [],
   "source": [
    "df[\"ssc_b\"].value_counts()\n",
    "dic={\"Others\":0,\"Central\":1}\n",
    "df[\"ssc_b\"]=df[\"ssc_b\"].map(dic)"
   ]
  },
  {
   "cell_type": "code",
   "execution_count": 8,
   "metadata": {},
   "outputs": [],
   "source": [
    "df[\"hsc_b\"].value_counts()\n",
    "dic={\"Others\":0,\"Central\":1}\n",
    "df[\"hsc_b\"]=df[\"hsc_b\"].map(dic)\n",
    "df[\"workex\"].value_counts()\n",
    "dic={\"No\":0,\"Yes\":1}\n",
    "df[\"workex\"]=df[\"workex\"].map(dic)\n",
    "df[\"specialisation\"].value_counts()\n",
    "dic={\"Mkt&Fin\":0,\"Mkt&HR\":1}\n",
    "df[\"specialisation\"]=df[\"specialisation\"].map(dic)\n",
    "df[\"status\"].value_counts()\n",
    "dic={\"Placed\":1,\"Not Placed\":0}\n",
    "df[\"status\"]=df[\"status\"].map(dic)\n",
    "df[\"degree_t\"]=df[\"degree_t\"].astype(\"object\")\n",
    "df=pd.get_dummies(df,drop_first=True)\n",
    "df[\"s_d\"]=df[\"ssc_p\"]*df[\"degree_p\"]\n",
    "df[\"h_d\"]=df[\"hsc_p\"]*df[\"degree_p\"]"
   ]
  },
  {
   "cell_type": "markdown",
   "metadata": {},
   "source": [
    "I have created three models:\n",
    "\n",
    "1. ssc_p and degree_p as independent variable while mba_p as dependent variable\n",
    "2. hsc_p and degree_p as independent variable while mba_p as dependent variable\n",
    "3. ssc_p, hsc_p and degree_p as independent variable while mba_p as dependent variable"
   ]
  },
  {
   "cell_type": "markdown",
   "metadata": {},
   "source": [
    "# **MODEL1**"
   ]
  },
  {
   "cell_type": "code",
   "execution_count": 9,
   "metadata": {},
   "outputs": [
    {
     "name": "stdout",
     "output_type": "stream",
     "text": [
      "                            OLS Regression Results                            \n",
      "==============================================================================\n",
      "Dep. Variable:                  mba_p   R-squared:                       0.236\n",
      "Model:                            OLS   Adj. R-squared:                  0.226\n",
      "Method:                 Least Squares   F-statistic:                     21.78\n",
      "Date:                Tue, 05 May 2020   Prob (F-statistic):           2.49e-12\n",
      "Time:                        21:02:09   Log-Likelihood:                -654.74\n",
      "No. Observations:                 215   AIC:                             1317.\n",
      "Df Residuals:                     211   BIC:                             1331.\n",
      "Df Model:                           3                                         \n",
      "Covariance Type:            nonrobust                                         \n",
      "==============================================================================\n",
      "                 coef    std err          t      P>|t|      [0.025      0.975]\n",
      "------------------------------------------------------------------------------\n",
      "Intercept     96.6588     19.302      5.008      0.000      58.608     134.709\n",
      "ssc_p         -0.7182      0.284     -2.532      0.012      -1.277      -0.159\n",
      "degree_p      -0.6693      0.298     -2.243      0.026      -1.258      -0.081\n",
      "s_d            0.0129      0.004      3.020      0.003       0.004       0.021\n",
      "==============================================================================\n",
      "Omnibus:                        3.760   Durbin-Watson:                   1.899\n",
      "Prob(Omnibus):                  0.153   Jarque-Bera (JB):                3.818\n",
      "Skew:                           0.317   Prob(JB):                        0.148\n",
      "Kurtosis:                       2.845   Cond. No.                     2.56e+05\n",
      "==============================================================================\n",
      "\n",
      "Warnings:\n",
      "[1] Standard Errors assume that the covariance matrix of the errors is correctly specified.\n",
      "[2] The condition number is large, 2.56e+05. This might indicate that there are\n",
      "strong multicollinearity or other numerical problems.\n"
     ]
    }
   ],
   "source": [
    "model1=ols(\"mba_p~ssc_p+degree_p+s_d\",data=df).fit()\n",
    "print(model1.summary())"
   ]
  },
  {
   "cell_type": "code",
   "execution_count": 10,
   "metadata": {},
   "outputs": [
    {
     "name": "stdout",
     "output_type": "stream",
     "text": [
      "             df       sum_sq      mean_sq          F        PR(>F)\n",
      "ssc_p       1.0  1098.972558  1098.972558  41.705812  7.188130e-10\n",
      "degree_p    1.0   382.792427   382.792427  14.526904  1.813008e-04\n",
      "s_d         1.0   240.333951   240.333951   9.120631  2.839317e-03\n",
      "Residual  211.0  5559.973456    26.350585        NaN           NaN\n"
     ]
    }
   ],
   "source": [
    "anova_table=sm.stats.anova_lm(model1,type=1)\n",
    "print(anova_table)"
   ]
  },
  {
   "cell_type": "markdown",
   "metadata": {},
   "source": [
    "# **MODEL2**"
   ]
  },
  {
   "cell_type": "code",
   "execution_count": 11,
   "metadata": {},
   "outputs": [
    {
     "name": "stdout",
     "output_type": "stream",
     "text": [
      "                            OLS Regression Results                            \n",
      "==============================================================================\n",
      "Dep. Variable:                  mba_p   R-squared:                       0.217\n",
      "Model:                            OLS   Adj. R-squared:                  0.210\n",
      "Method:                 Least Squares   F-statistic:                     29.40\n",
      "Date:                Tue, 05 May 2020   Prob (F-statistic):           5.37e-12\n",
      "Time:                        21:02:09   Log-Likelihood:                -657.43\n",
      "No. Observations:                 215   AIC:                             1321.\n",
      "Df Residuals:                     212   BIC:                             1331.\n",
      "Df Model:                           2                                         \n",
      "Covariance Type:            nonrobust                                         \n",
      "==============================================================================\n",
      "                 coef    std err          t      P>|t|      [0.025      0.975]\n",
      "------------------------------------------------------------------------------\n",
      "Intercept     54.6523      2.405     22.729      0.000      49.912      59.392\n",
      "hsc_p         -0.1536      0.076     -2.011      0.046      -0.304      -0.003\n",
      "h_d            0.0040      0.001      4.971      0.000       0.002       0.006\n",
      "==============================================================================\n",
      "Omnibus:                        4.906   Durbin-Watson:                   1.905\n",
      "Prob(Omnibus):                  0.086   Jarque-Bera (JB):                3.961\n",
      "Skew:                           0.228   Prob(JB):                        0.138\n",
      "Kurtosis:                       2.516   Cond. No.                     3.10e+04\n",
      "==============================================================================\n",
      "\n",
      "Warnings:\n",
      "[1] Standard Errors assume that the covariance matrix of the errors is correctly specified.\n",
      "[2] The condition number is large, 3.1e+04. This might indicate that there are\n",
      "strong multicollinearity or other numerical problems.\n"
     ]
    }
   ],
   "source": [
    "model2=ols(\"mba_p~hsc_p+h_d\",data=df).fit()\n",
    "print(model2.summary())"
   ]
  },
  {
   "cell_type": "code",
   "execution_count": 12,
   "metadata": {},
   "outputs": [
    {
     "name": "stdout",
     "output_type": "stream",
     "text": [
      "             df       sum_sq     mean_sq          F        PR(>F)\n",
      "hsc_p       1.0   916.806171  916.806171  34.094071  1.952231e-08\n",
      "h_d         1.0   664.482964  664.482964  24.710708  1.372397e-06\n",
      "Residual  212.0  5700.783258   26.890487        NaN           NaN\n"
     ]
    }
   ],
   "source": [
    "anova_table=sm.stats.anova_lm(model2,type=1)\n",
    "print(anova_table)"
   ]
  },
  {
   "cell_type": "markdown",
   "metadata": {},
   "source": [
    "# **MODEL3**"
   ]
  },
  {
   "cell_type": "code",
   "execution_count": 13,
   "metadata": {},
   "outputs": [
    {
     "name": "stdout",
     "output_type": "stream",
     "text": [
      "                            OLS Regression Results                            \n",
      "==============================================================================\n",
      "Dep. Variable:                  mba_p   R-squared:                       0.266\n",
      "Model:                            OLS   Adj. R-squared:                  0.252\n",
      "Method:                 Least Squares   F-statistic:                     19.06\n",
      "Date:                Tue, 05 May 2020   Prob (F-statistic):           2.17e-13\n",
      "Time:                        21:02:09   Log-Likelihood:                -650.44\n",
      "No. Observations:                 215   AIC:                             1311.\n",
      "Df Residuals:                     210   BIC:                             1328.\n",
      "Df Model:                           4                                         \n",
      "Covariance Type:            nonrobust                                         \n",
      "==============================================================================\n",
      "                 coef    std err          t      P>|t|      [0.025      0.975]\n",
      "------------------------------------------------------------------------------\n",
      "Intercept    105.9095     19.227      5.508      0.000      68.006     143.813\n",
      "ssc_p         -0.8221      0.281     -2.927      0.004      -1.376      -0.268\n",
      "degree_p      -0.8774      0.302     -2.908      0.004      -1.472      -0.283\n",
      "s_d            0.0139      0.004      3.290      0.001       0.006       0.022\n",
      "h_d            0.0016      0.001      2.926      0.004       0.001       0.003\n",
      "==============================================================================\n",
      "Omnibus:                        4.651   Durbin-Watson:                   1.878\n",
      "Prob(Omnibus):                  0.098   Jarque-Bera (JB):                4.685\n",
      "Skew:                           0.358   Prob(JB):                       0.0961\n",
      "Kurtosis:                       2.905   Cond. No.                     3.62e+05\n",
      "==============================================================================\n",
      "\n",
      "Warnings:\n",
      "[1] Standard Errors assume that the covariance matrix of the errors is correctly specified.\n",
      "[2] The condition number is large, 3.62e+05. This might indicate that there are\n",
      "strong multicollinearity or other numerical problems.\n"
     ]
    }
   ],
   "source": [
    "model3=ols(\"mba_p~ssc_p+degree_p+s_d+h_d\",data=df).fit()\n",
    "print(model3.summary())"
   ]
  },
  {
   "cell_type": "code",
   "execution_count": 14,
   "metadata": {},
   "outputs": [
    {
     "name": "stdout",
     "output_type": "stream",
     "text": [
      "             df       sum_sq      mean_sq          F        PR(>F)\n",
      "ssc_p       1.0  1098.972558  1098.972558  43.200370  3.838173e-10\n",
      "degree_p    1.0   382.792427   382.792427  15.047486  1.402743e-04\n",
      "s_d         1.0   240.333951   240.333951   9.447475  2.394858e-03\n",
      "h_d         1.0   217.791472   217.791472   8.561335  3.811440e-03\n",
      "Residual  210.0  5342.181984    25.438962        NaN           NaN\n"
     ]
    }
   ],
   "source": [
    "anova_table=sm.stats.anova_lm(model3,type=1)\n",
    "print(anova_table)"
   ]
  },
  {
   "cell_type": "markdown",
   "metadata": {},
   "source": [
    "# **LOGISTIC REGRESSION**"
   ]
  },
  {
   "cell_type": "code",
   "execution_count": 15,
   "metadata": {},
   "outputs": [
    {
     "name": "stdout",
     "output_type": "stream",
     "text": [
      "0.9302325581395349\n",
      "[[ 8  2]\n",
      " [ 1 32]]\n"
     ]
    }
   ],
   "source": [
    "col=[\"status\",\"salary\",\"degree_t_Others\",\"ssc_b\",\"hsc_b\"]\n",
    "\n",
    "data=df.drop(col,axis=1)\n",
    "x=data.values\n",
    "y=df[\"status\"].values\n",
    "x_train,x_test,y_train,y_test=train_test_split(x,y,test_size=0.2,random_state=1001)\n",
    "lgr=LogisticRegression()\n",
    "model_fit=lgr.fit(x_train,y_train)\n",
    "prediction=lgr.predict(x_test)\n",
    "print(accuracy_score(y_test,prediction))\n",
    "print(confusion_matrix(y_test,prediction))"
   ]
  }
 ],
 "metadata": {
  "kernelspec": {
   "display_name": "Python 3",
   "language": "python",
   "name": "python3"
  },
  "language_info": {
   "codemirror_mode": {
    "name": "ipython",
    "version": 3
   },
   "file_extension": ".py",
   "mimetype": "text/x-python",
   "name": "python",
   "nbconvert_exporter": "python",
   "pygments_lexer": "ipython3",
   "version": "3.7.6"
  }
 },
 "nbformat": 4,
 "nbformat_minor": 4
}
